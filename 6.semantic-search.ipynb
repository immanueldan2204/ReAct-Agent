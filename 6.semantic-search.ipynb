{
 "cells": [
  {
   "cell_type": "code",
   "execution_count": 5,
   "metadata": {},
   "outputs": [],
   "source": [
    "%%capture --no-stderr\n",
    "%pip install -U langchain huggingface-hub[cli] langchain_huggingface"
   ]
  },
  {
   "cell_type": "code",
   "execution_count": 1,
   "metadata": {},
   "outputs": [
    {
     "data": {
      "text/plain": [
       "True"
      ]
     },
     "execution_count": 1,
     "metadata": {},
     "output_type": "execute_result"
    }
   ],
   "source": [
    "# Load API key.\n",
    "from dotenv import load_dotenv\n",
    "load_dotenv()"
   ]
  },
  {
   "cell_type": "code",
   "execution_count": 3,
   "metadata": {},
   "outputs": [],
   "source": [
    "from langchain.embeddings import init_embeddings\n",
    "from langgraph.store.memory import InMemoryStore\n",
    "\n",
    "# Create store with semantic search enabled\n",
    "embeddings = init_embeddings(\"huggingface:intfloat/multilingual-e5-large\")\n",
    "store = InMemoryStore(\n",
    "    index={\n",
    "        \"embed\": embeddings,\n",
    "        \"dims\": 1024,\n",
    "    }\n",
    ")"
   ]
  },
  {
   "cell_type": "code",
   "execution_count": 4,
   "metadata": {},
   "outputs": [],
   "source": [
    "# Store some memories\n",
    "store.put((\"user_123\", \"memories\"), \"1\", {\"text\": \"I love pizza\"})\n",
    "store.put((\"user_123\", \"memories\"), \"2\", {\"text\": \"I prefer Italian food\"})\n",
    "store.put((\"user_123\", \"memories\"), \"3\", {\"text\": \"I don't like spicy food\"})\n",
    "store.put((\"user_123\", \"memories\"), \"3\", {\"text\": \"I am studying econometrics\"})\n",
    "store.put((\"user_123\", \"memories\"), \"3\", {\"text\": \"I am a plumber\"})"
   ]
  },
  {
   "cell_type": "code",
   "execution_count": 5,
   "metadata": {},
   "outputs": [
    {
     "name": "stdout",
     "output_type": "stream",
     "text": [
      "Memory: I prefer Italian food (similarity: 0.8433221467303674)\n",
      "Memory: I love pizza (similarity: 0.837641701742271)\n",
      "Memory: I am a plumber (similarity: 0.7987382898533886)\n"
     ]
    }
   ],
   "source": [
    "# Find memories about food preferences\n",
    "memories = store.search((\"user_123\", \"memories\"), query=\"I like food?\", limit=5)\n",
    "\n",
    "for memory in memories:\n",
    "    print(f'Memory: {memory.value[\"text\"]} (similarity: {memory.score})')"
   ]
  },
  {
   "cell_type": "code",
   "execution_count": 6,
   "metadata": {},
   "outputs": [
    {
     "name": "stdout",
     "output_type": "stream",
     "text": [
      "Okay! Given that you like Italian food and you're a plumber (so you probably need something hearty!), how about I suggest some Italian dishes that are filling and satisfying?\n",
      "\n",
      "Here are a few ideas:\n",
      "\n",
      "*   **Pasta e Fagioli:** A hearty pasta and bean soup. It's rustic, filling, and packed with flavor.*   **Lasagna:** A classic! Layers of pasta, meat sauce, cheese, and béchamel. Definitely a stick-to-your-ribs kind of meal.\n",
      "\n",
      "*   **Spaghetti alla Carbonara:** A rich and creamy sauce made with eggs, pancetta, Parmesan cheese, and black pepper. Quick to make and very satisfying.\n",
      "\n",
      "*   **Sausage and Peppers:** A simple but delicious dish. Italian sausage cooked with bell peppers and onions, often served with a side of crusty bread.\n",
      "\n",
      "Which of these sound good to you, or are you looking for something else? For example:\n",
      "\n",
      "*   Are you looking for something quick to make, or are you willing to spend some time cooking?\n",
      "*   Do you have any specific ingredients on hand?\n",
      "*   Are you in the mood for meat, vegetarian, or something else?"
     ]
    }
   ],
   "source": [
    "from typing import Optional\n",
    "\n",
    "from langchain.chat_models import init_chat_model\n",
    "from langgraph.store.base import BaseStore\n",
    "\n",
    "from langgraph.graph import START, MessagesState, StateGraph\n",
    "\n",
    "llm = init_chat_model(\"google_genai:gemini-2.0-flash\")\n",
    "\n",
    "\n",
    "def chat(state, *, store: BaseStore):\n",
    "    # Search based on user's last message\n",
    "    items = store.search(\n",
    "        (\"user_123\", \"memories\"), query=state[\"messages\"][-1].content, limit=2\n",
    "    )\n",
    "    memories = \"\\n\".join(item.value[\"text\"] for item in items)\n",
    "    memories = f\"## Memories of user\\n{memories}\" if memories else \"\"\n",
    "    response = llm.invoke(\n",
    "        [\n",
    "            {\"role\": \"system\", \"content\": f\"You are a helpful assistant.\\n{memories}\"},\n",
    "            *state[\"messages\"],\n",
    "        ]\n",
    "    )\n",
    "    return {\"messages\": [response]}\n",
    "\n",
    "\n",
    "builder = StateGraph(MessagesState)\n",
    "builder.add_node(chat)\n",
    "builder.add_edge(START, \"chat\")\n",
    "graph = builder.compile(store=store)\n",
    "\n",
    "for message, metadata in graph.stream(\n",
    "    input={\"messages\": [{\"role\": \"user\", \"content\": \"I'm hungry\"}]},\n",
    "    stream_mode=\"messages\",\n",
    "):\n",
    "    print(message.content, end=\"\")"
   ]
  },
  {
   "cell_type": "code",
   "execution_count": 7,
   "metadata": {},
   "outputs": [],
   "source": [
    "import uuid\n",
    "from typing import Optional\n",
    "\n",
    "from langchain.chat_models import init_chat_model\n",
    "from langgraph.prebuilt import InjectedStore\n",
    "from langgraph.store.base import BaseStore\n",
    "from typing_extensions import Annotated\n",
    "\n",
    "from langgraph.prebuilt import create_react_agent\n",
    "\n",
    "\n",
    "def prepare_messages(state, *, store: BaseStore):\n",
    "    # Search based on user's last message\n",
    "    items = store.search(\n",
    "        (\"user_123\", \"memories\"), query=state[\"messages\"][-1].content, limit=2\n",
    "    )\n",
    "    memories = \"\\n\".join(item.value[\"text\"] for item in items)\n",
    "    memories = f\"## Memories of user\\n{memories}\" if memories else \"\"\n",
    "    return [\n",
    "        {\"role\": \"system\", \"content\": f\"You are a helpful assistant.\\n{memories}\"}\n",
    "    ] + state[\"messages\"]\n",
    "\n",
    "\n",
    "# You can also use the store directly within a tool!\n",
    "def upsert_memory(\n",
    "    content: str,\n",
    "    *,\n",
    "    memory_id: Optional[uuid.UUID] = None,\n",
    "    store: Annotated[BaseStore, InjectedStore],\n",
    "):\n",
    "    \"\"\"Upsert a memory in the database.\"\"\"\n",
    "    # The LLM can use this tool to store a new memory\n",
    "    mem_id = memory_id or uuid.uuid4()\n",
    "    store.put(\n",
    "        (\"user_123\", \"memories\"),\n",
    "        key=str(mem_id),\n",
    "        value={\"text\": content},\n",
    "    )\n",
    "    return f\"Stored memory {mem_id}\"\n",
    "\n",
    "\n",
    "agent = create_react_agent(\n",
    "    init_chat_model(\"google_genai:gemini-2.0-flash\"),\n",
    "    tools=[upsert_memory],\n",
    "    # The 'prompt' function is run to prepare the messages for the LLM. It is called\n",
    "    # right before each LLM call\n",
    "    prompt=prepare_messages,\n",
    "    store=store,\n",
    ")"
   ]
  },
  {
   "cell_type": "code",
   "execution_count": 8,
   "metadata": {},
   "outputs": [
    {
     "name": "stdout",
     "output_type": "stream",
     "text": [
      "Stored memory 5bbc6259-a12b-4c1a-a08d-f7430900c405Since you're hungry and I know you love pizza, maybe you should get some pizza!"
     ]
    }
   ],
   "source": [
    "for message, metadata in agent.stream(\n",
    "    input={\"messages\": [{\"role\": \"user\", \"content\": \"I'm hungry\"}]},\n",
    "    stream_mode=\"messages\",\n",
    "):\n",
    "    print(message.content, end=\"\")"
   ]
  },
  {
   "cell_type": "code",
   "execution_count": 9,
   "metadata": {},
   "outputs": [
    {
     "name": "stdout",
     "output_type": "stream",
     "text": [
      "Expect mem 2\n",
      "Item: mem2; Score (0.9008982130230558)\n",
      "Memory: Ate alone at home\n",
      "Emotion: felt a bit lonely\n",
      "\n",
      "Expect mem1\n",
      "Item: mem1; Score (0.8487413982661861)\n",
      "Memory: Had pizza with friends at Mario's\n",
      "Emotion: felt happy and connected\n",
      "\n",
      "Expect random lower score (ravioli not indexed)\n",
      "Item: mem1; Score (0.8076267485835011)\n",
      "Memory: Had pizza with friends at Mario's\n",
      "Emotion: felt happy and connected\n",
      "\n"
     ]
    }
   ],
   "source": [
    "# Configure store to embed both memory content and emotional context\n",
    "store = InMemoryStore(\n",
    "    index={\"embed\": embeddings, \"dims\": 1024, \"fields\": [\"memory\", \"emotional_context\"]}\n",
    ")\n",
    "# Store memories with different content/emotion pairs\n",
    "store.put(\n",
    "    (\"user_123\", \"memories\"),\n",
    "    \"mem1\",\n",
    "    {\n",
    "        \"memory\": \"Had pizza with friends at Mario's\",\n",
    "        \"emotional_context\": \"felt happy and connected\",\n",
    "        \"this_isnt_indexed\": \"I prefer ravioli though\",\n",
    "    },\n",
    ")\n",
    "store.put(\n",
    "    (\"user_123\", \"memories\"),\n",
    "    \"mem2\",\n",
    "    {\n",
    "        \"memory\": \"Ate alone at home\",\n",
    "        \"emotional_context\": \"felt a bit lonely\",\n",
    "        \"this_isnt_indexed\": \"I like pie\",\n",
    "    },\n",
    ")\n",
    "\n",
    "# Search focusing on emotional state - matches mem2\n",
    "results = store.search(\n",
    "    (\"user_123\", \"memories\"), query=\"times they felt isolated\", limit=1\n",
    ")\n",
    "print(\"Expect mem 2\")\n",
    "for r in results:\n",
    "    print(f\"Item: {r.key}; Score ({r.score})\")\n",
    "    print(f\"Memory: {r.value['memory']}\")\n",
    "    print(f\"Emotion: {r.value['emotional_context']}\\n\")\n",
    "\n",
    "# Search focusing on social eating - matches mem1\n",
    "print(\"Expect mem1\")\n",
    "results = store.search((\"user_123\", \"memories\"), query=\"fun pizza\", limit=1)\n",
    "for r in results:\n",
    "    print(f\"Item: {r.key}; Score ({r.score})\")\n",
    "    print(f\"Memory: {r.value['memory']}\")\n",
    "    print(f\"Emotion: {r.value['emotional_context']}\\n\")\n",
    "\n",
    "print(\"Expect random lower score (ravioli not indexed)\")\n",
    "results = store.search((\"user_123\", \"memories\"), query=\"ravioli\", limit=1)\n",
    "for r in results:\n",
    "    print(f\"Item: {r.key}; Score ({r.score})\")\n",
    "    print(f\"Memory: {r.value['memory']}\")\n",
    "    print(f\"Emotion: {r.value['emotional_context']}\\n\")"
   ]
  },
  {
   "cell_type": "code",
   "execution_count": 10,
   "metadata": {},
   "outputs": [
    {
     "name": "stdout",
     "output_type": "stream",
     "text": [
      "Expect mem1\n",
      "Item: mem1; Score (0.8277486614782125)\n",
      "Memory: I love spicy food\n",
      "Context: At a Thai restaurant\n",
      "\n",
      "Expect mem2\n",
      "Item: mem2; Score (0.8411722654705857)\n",
      "Memory: The restaurant was too loud\n",
      "Context: Dinner at an Italian place\n",
      "\n"
     ]
    }
   ],
   "source": [
    "store = InMemoryStore(\n",
    "    index={\n",
    "        \"embed\": embeddings,\n",
    "        \"dims\": 1024,\n",
    "        \"fields\": [\"memory\"],\n",
    "    }  # Default to embed memory field\n",
    ")\n",
    "\n",
    "# Store one memory with default indexing\n",
    "store.put(\n",
    "    (\"user_123\", \"memories\"),\n",
    "    \"mem1\",\n",
    "    {\"memory\": \"I love spicy food\", \"context\": \"At a Thai restaurant\"},\n",
    ")\n",
    "\n",
    "# Store another overriding which fields to embed\n",
    "store.put(\n",
    "    (\"user_123\", \"memories\"),\n",
    "    \"mem2\",\n",
    "    {\"memory\": \"The restaurant was too loud\", \"context\": \"Dinner at an Italian place\"},\n",
    "    index=[\"context\"],  # Override: only embed the context\n",
    ")\n",
    "\n",
    "# Search about food - matches mem1 (using default field)\n",
    "print(\"Expect mem1\")\n",
    "results = store.search(\n",
    "    (\"user_123\", \"memories\"), query=\"what food do they like\", limit=1\n",
    ")\n",
    "for r in results:\n",
    "    print(f\"Item: {r.key}; Score ({r.score})\")\n",
    "    print(f\"Memory: {r.value['memory']}\")\n",
    "    print(f\"Context: {r.value['context']}\\n\")\n",
    "\n",
    "# Search about restaurant atmosphere - matches mem2 (using overridden field)\n",
    "print(\"Expect mem2\")\n",
    "results = store.search(\n",
    "    (\"user_123\", \"memories\"), query=\"restaurant environment\", limit=1\n",
    ")\n",
    "for r in results:\n",
    "    print(f\"Item: {r.key}; Score ({r.score})\")\n",
    "    print(f\"Memory: {r.value['memory']}\")\n",
    "    print(f\"Context: {r.value['context']}\\n\")"
   ]
  },
  {
   "cell_type": "code",
   "execution_count": 11,
   "metadata": {},
   "outputs": [
    {
     "name": "stdout",
     "output_type": "stream",
     "text": [
      "Expect mem1\n",
      "Item: mem1; Score (0.7801642808315417)\n",
      "Memory: I love chocolate ice cream\n",
      "Type: preference\n",
      "\n",
      "Expect low score (mem2 not indexed)\n",
      "Item: mem1; Score (0.7355068130282495)\n",
      "Memory: I love chocolate ice cream\n",
      "Type: preference\n",
      "\n"
     ]
    }
   ],
   "source": [
    "store = InMemoryStore(index={\"embed\": embeddings, \"dims\": 1024, \"fields\": [\"memory\"]})\n",
    "\n",
    "# Store a normal indexed memory\n",
    "store.put(\n",
    "    (\"user_123\", \"memories\"),\n",
    "    \"mem1\",\n",
    "    {\"memory\": \"I love chocolate ice cream\", \"type\": \"preference\"},\n",
    ")\n",
    "\n",
    "# Store a system memory without indexing\n",
    "store.put(\n",
    "    (\"user_123\", \"memories\"),\n",
    "    \"mem2\",\n",
    "    {\"memory\": \"User completed onboarding\", \"type\": \"system\"},\n",
    "    index=False,  # Disable indexing entirely\n",
    ")\n",
    "\n",
    "# Search about food preferences - finds mem1\n",
    "print(\"Expect mem1\")\n",
    "results = store.search((\"user_123\", \"memories\"), query=\"what food preferences\", limit=1)\n",
    "for r in results:\n",
    "    print(f\"Item: {r.key}; Score ({r.score})\")\n",
    "    print(f\"Memory: {r.value['memory']}\")\n",
    "    print(f\"Type: {r.value['type']}\\n\")\n",
    "\n",
    "# Search about onboarding - won't find mem2 (not indexed)\n",
    "print(\"Expect low score (mem2 not indexed)\")\n",
    "results = store.search((\"user_123\", \"memories\"), query=\"onboarding status\", limit=1)\n",
    "for r in results:\n",
    "    print(f\"Item: {r.key}; Score ({r.score})\")\n",
    "    print(f\"Memory: {r.value['memory']}\")\n",
    "    print(f\"Type: {r.value['type']}\\n\")"
   ]
  },
  {
   "cell_type": "code",
   "execution_count": null,
   "metadata": {},
   "outputs": [],
   "source": []
  }
 ],
 "metadata": {
  "kernelspec": {
   "display_name": "venv",
   "language": "python",
   "name": "python3"
  },
  "language_info": {
   "codemirror_mode": {
    "name": "ipython",
    "version": 3
   },
   "file_extension": ".py",
   "mimetype": "text/x-python",
   "name": "python",
   "nbconvert_exporter": "python",
   "pygments_lexer": "ipython3",
   "version": "3.12.1"
  }
 },
 "nbformat": 4,
 "nbformat_minor": 2
}
